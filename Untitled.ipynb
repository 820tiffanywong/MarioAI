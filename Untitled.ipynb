{
 "cells": [
  {
   "cell_type": "code",
   "execution_count": null,
   "id": "89847c39",
   "metadata": {},
   "outputs": [],
   "source": [
    "from PIL import Image"
   ]
  },
  {
   "cell_type": "code",
   "execution_count": 35,
   "id": "0f77b0e0",
   "metadata": {},
   "outputs": [],
   "source": [
    "for i in range(1,4):\n",
    "    bird_img = Image.open(f'imgs/bird{i}.png')\n",
    "    mario_old = Image.open(f'imgs/meowrio{i}.png')\n",
    "    mario_new = mario_old.resize(bird_img.size)\n",
    "    mario_new.save(f'imgs/meowrio{i}.png')"
   ]
  },
  {
   "cell_type": "code",
   "execution_count": 33,
   "id": "c349a427",
   "metadata": {},
   "outputs": [],
   "source": [
    "for i in range(1,4):\n",
    "    img = Image.open(f'imgs/mario{i}.png')\n",
    "    rgba = img.convert(\"RGBA\")\n",
    "    datas = rgba.getdata()\n",
    "  \n",
    "newData = []\n",
    "for item in datas:\n",
    "    if item[0] == 0 and item[1] == 0 and item[2] == 0:  # finding black colour by its RGB value\n",
    "        # storing a transparent value when we find a black colour\n",
    "        newData.append((255, 255, 255, 0))\n",
    "    else:\n",
    "        newData.append(item)  # other colours remain unchanged\n",
    "  \n",
    "rgba.putdata(newData)\n",
    "rgba.save(f\"transparent_image{i}.png\", \"PNG\")"
   ]
  },
  {
   "cell_type": "code",
   "execution_count": null,
   "id": "8645259c",
   "metadata": {},
   "outputs": [],
   "source": []
  }
 ],
 "metadata": {
  "kernelspec": {
   "display_name": "Python 3 (ipykernel)",
   "language": "python",
   "name": "python3"
  },
  "language_info": {
   "codemirror_mode": {
    "name": "ipython",
    "version": 3
   },
   "file_extension": ".py",
   "mimetype": "text/x-python",
   "name": "python",
   "nbconvert_exporter": "python",
   "pygments_lexer": "ipython3",
   "version": "3.9.1"
  }
 },
 "nbformat": 4,
 "nbformat_minor": 5
}
