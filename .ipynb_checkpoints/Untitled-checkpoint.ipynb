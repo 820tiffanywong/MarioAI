{
 "cells": [
  {
   "cell_type": "code",
   "execution_count": null,
   "id": "7b32238b",
   "metadata": {},
   "outputs": [],
   "source": [
    "from PIL import Image"
   ]
  },
  {
   "cell_type": "code",
   "execution_count": 22,
   "id": "e37541d1",
   "metadata": {},
   "outputs": [],
   "source": [
    "for i in range(1,4):\n",
    "    bird_img = Image.open(f'imgs/bird{i}.png')\n",
    "    mario_old = Image.open(f'imgs/mario{i}.png')\n",
    "    mario_new = mario_old.resize(bird_img.size)\n",
    "    mario_new.save(f'imgs/mario{i}.png')"
   ]
  },
  {
   "cell_type": "code",
   "execution_count": 23,
   "id": "abf4285f",
   "metadata": {},
   "outputs": [],
   "source": [
    "bird_img = Image.open(f'imgs/bird1.png')\n",
    "mario_old = Image.open(f'imgs/mario4.png')\n",
    "mario_new = mario_old.resize(bird_img.size)\n",
    "png_info = mario_new.info\n",
    "mario_new.save(f'imgs/mario4.png', **png_info)"
   ]
  },
  {
   "cell_type": "code",
   "execution_count": null,
   "id": "9b8a2e51",
   "metadata": {},
   "outputs": [],
   "source": []
  }
 ],
 "metadata": {
  "kernelspec": {
   "display_name": "Python 3 (ipykernel)",
   "language": "python",
   "name": "python3"
  },
  "language_info": {
   "codemirror_mode": {
    "name": "ipython",
    "version": 3
   },
   "file_extension": ".py",
   "mimetype": "text/x-python",
   "name": "python",
   "nbconvert_exporter": "python",
   "pygments_lexer": "ipython3",
   "version": "3.9.1"
  }
 },
 "nbformat": 4,
 "nbformat_minor": 5
}
